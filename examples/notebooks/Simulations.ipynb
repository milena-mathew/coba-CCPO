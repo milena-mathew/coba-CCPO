{
 "cells": [
  {
   "cell_type": "markdown",
   "metadata": {},
   "source": [
    "# Simulations\n",
    "In this notebook we will show four methods for incorporating new simulations into Coba in order of easy to hard:\n",
    "1. From an Openml.org dataset with **OpenmlSimulation**\n",
    "2. From local data sets with **CsvSimulation**, **ArffSimulation**, **LibsvmSimulation**, and **ManikSimulation**.\n",
    "3. From Python function definitions with **LambdaSimulation**\n",
    "4. From your own class that implements the **Simulation** interface\n",
    "\n",
    "## Simulations From Openml.org\n",
    "\n",
    "Perhaps the easiest way to incorporate new Simulations is to load them from Openml.org. Openml.org is is an online repository of machine learning data sets which currently hosts over 21,000 datasets. Using dataset ids Coba can tap into this repository and download these datasets to create Simulations.\n",
    "\n",
    "To get a sense of how this works let's say we want to build a simulation from the Covertype data set. We can [do a dataset search](https://www.openml.org/search?type=data) on Openml.org to see if this data set is hosted. [This search](https://www.openml.org/search?q=covertype&type=data) finds several data sets and we simply pick [the first one](https://www.openml.org/d/180). On the dataset's landing page we can look at the URL -- https://www.openml.org/d/180 -- to get the dataset's id of 180. Now, all we have to do to run an experiment with the Covertype data set is:\n"
   ]
  },
  {
   "cell_type": "code",
   "execution_count": null,
   "metadata": {},
   "outputs": [],
   "source": [
    "from coba.simulations import OpenmlSimulation\n",
    "from coba.learners    import RandomLearner, VowpalLearner\n",
    "from coba.benchmarks  import Benchmark\n",
    "\n",
    "Benchmark([OpenmlSimulation(180)], take=1000).evaluate([RandomLearner(), VowpalLearner(epsilon=0.1)]).plot_learners()"
   ]
  },
  {
   "cell_type": "markdown",
   "metadata": {},
   "source": [
    "This same procedure can be repeated for any dataset on Openml.org.\n",
    "\n",
    "## Simulations From Local Datasets\n",
    "\n",
    "The next easiest way to incorporate new Simulations is to load them from a local dataset. Coba can create simulations from datasets in the following formats:\n",
    "* CSV\n",
    "* ARFF (i.e., https://waikato.github.io/weka-wiki/formats_and_processing/arff_stable/)\n",
    "* Libsvm (e.g., https://www.csie.ntu.edu.tw/~cjlin/libsvmtools/datasets/multiclass.html)\n",
    "* Manik (e.g., http://manikvarma.org/downloads/XC/XMLRepository.html)\n",
    "\n",
    "For example, we may want to test against the mnist dataset. This dataset can be download from Libsvm [here](https://www.csie.ntu.edu.tw/~cjlin/libsvmtools/datasets/multiclass.html#mnist). Once downloaded it we could use it:\n",
    "\n",
    "```python\n",
    "from coba.simulations import LibsvmSimulation\n",
    "from coba.learners    import RandomLearner, VowpalLearner\n",
    "from coba.benchmarks  import Benchmark\n",
    "\n",
    "mnist = [LibsvmSimulation(<path to downloaded mnist>)] \n",
    "Benchmark(mnist, take=1000).evaluate([RandomLearner(), VowpalLearner(epsilon=0.1)]).plot_learners()\n",
    "```\n",
    "\n",
    "The complete list of classes for local simulations is:\n",
    "\n",
    "* `CsvSimulation(source:str, label_col:Union[str,int], with_header:bool=True)`\n",
    "* `ArffSimulation(source:str, label_col:Union[str,int])`\n",
    "* `LibsvmSimulation(source:str)`\n",
    "* `ManikSimulation(source:str)`\n",
    "\n",
    "## Simulations from Function Definitions\n",
    "\n",
    "A third method for creating simulations for use in experiments is via function definitions. \n",
    "\n",
    "This can be done with **LambdaSimulation** which takes three function definitions -- describing how to generate contexts, actions and rewards -- and the number of interactions you'd like the simulation to have. An example of a **LambdaSimulation** generating random contexts and actions with a linear reward function in [0,1] is provided:\n"
   ]
  },
  {
   "cell_type": "code",
   "execution_count": 1,
   "metadata": {},
   "outputs": [
    {
     "ename": "ImportError",
     "evalue": "cannot import name 'ConstrainedSimulation' from 'coba.simulations' (/home/milena/anaconda3/lib/python3.8/site-packages/coba/simulations/__init__.py)",
     "output_type": "error",
     "traceback": [
      "\u001b[0;31m---------------------------------------------------------------------------\u001b[0m",
      "\u001b[0;31mImportError\u001b[0m                               Traceback (most recent call last)",
      "\u001b[0;32m<ipython-input-1-2a671357b876>\u001b[0m in \u001b[0;36m<module>\u001b[0;34m\u001b[0m\n\u001b[1;32m      2\u001b[0m \u001b[0;32mimport\u001b[0m \u001b[0mcoba\u001b[0m\u001b[0;34m\u001b[0m\u001b[0;34m\u001b[0m\u001b[0m\n\u001b[1;32m      3\u001b[0m \u001b[0;32mfrom\u001b[0m \u001b[0mcoba\u001b[0m\u001b[0;34m.\u001b[0m\u001b[0mrandom\u001b[0m      \u001b[0;32mimport\u001b[0m \u001b[0mCobaRandom\u001b[0m\u001b[0;34m\u001b[0m\u001b[0;34m\u001b[0m\u001b[0m\n\u001b[0;32m----> 4\u001b[0;31m \u001b[0;32mfrom\u001b[0m \u001b[0mcoba\u001b[0m\u001b[0;34m.\u001b[0m\u001b[0msimulations\u001b[0m \u001b[0;32mimport\u001b[0m \u001b[0mLambdaSimulation\u001b[0m\u001b[0;34m,\u001b[0m \u001b[0mConstrainedSimulation\u001b[0m\u001b[0;34m,\u001b[0m \u001b[0mContext\u001b[0m\u001b[0;34m,\u001b[0m \u001b[0mAction\u001b[0m\u001b[0;34m\u001b[0m\u001b[0;34m\u001b[0m\u001b[0m\n\u001b[0m\u001b[1;32m      5\u001b[0m \u001b[0;32mfrom\u001b[0m \u001b[0mcoba\u001b[0m\u001b[0;34m.\u001b[0m\u001b[0mlearners\u001b[0m    \u001b[0;32mimport\u001b[0m \u001b[0mRandomLearner\u001b[0m\u001b[0;34m,\u001b[0m \u001b[0mVowpalLearner\u001b[0m\u001b[0;34m,\u001b[0m \u001b[0mChanceConstrainedOptimizer\u001b[0m\u001b[0;34m\u001b[0m\u001b[0;34m\u001b[0m\u001b[0m\n\u001b[1;32m      6\u001b[0m \u001b[0;32mfrom\u001b[0m \u001b[0mcoba\u001b[0m\u001b[0;34m.\u001b[0m\u001b[0mbenchmarks\u001b[0m  \u001b[0;32mimport\u001b[0m \u001b[0mBenchmark\u001b[0m\u001b[0;34m\u001b[0m\u001b[0;34m\u001b[0m\u001b[0m\n",
      "\u001b[0;31mImportError\u001b[0m: cannot import name 'ConstrainedSimulation' from 'coba.simulations' (/home/milena/anaconda3/lib/python3.8/site-packages/coba/simulations/__init__.py)"
     ]
    }
   ],
   "source": [
    "from typing import Sequence\n",
    "import coba\n",
    "from coba.random      import CobaRandom\n",
    "from coba.simulations import LambdaSimulation, ConstrainedSimulation, Context, Action\n",
    "from coba.learners    import RandomLearner, VowpalLearner, ChanceConstrainedOptimizer\n",
    "from coba.benchmarks  import Benchmark\n",
    "\n",
    "r = CobaRandom()\n",
    "n_interactions = 1000\n",
    "\n",
    "def context(index: int) -> Context:\n",
    "    return tuple(r.randoms(5))\n",
    "\n",
    "def actions(index: int, context: Context) -> Sequence[Action]:\n",
    "    actions = [ r.randoms(5) for _ in range(3) ]\n",
    "    return [ tuple(a/sum(action) for a in action) for action in actions ]\n",
    "\n",
    "def rewards(index: int, context: Context, action: Action) -> float:\n",
    "    return sum(c*a for c,a in zip(context,action))\n",
    "\n",
    "def observations(index: int, context: Context, action: Action) -> float:\n",
    "    return sum(c-a for c,a in zip(context,action))\n",
    "\n",
    "simulations = [ConstrainedSimulation(n_interactions, context, actions, rewards, observations)]\n",
    "\n",
    "Benchmark(simulations).evaluate([ChanceConstrainedOptimizer(constraint=0.1, learning_rate=0.3, vw_kwargs={\"bag\":5, \"seed\":10})]).plot_learners()\n"
   ]
  },
  {
   "cell_type": "markdown",
   "metadata": {},
   "source": [
    "## Simulations from Scratch\n",
    "\n",
    "The final, and most involved method, for creating new simulations in Coba is to create your own from scratch. This might be needed if you need to ingest a format that Coba doesn't already support. Or maybe you need your simulation to track some internal state between interactions. By creating your own Simulation there really is no limit to the functionality employed. In order to make your own simulation you'll first need to know a few simple classes/interfaces. We'll start with the Simulation interface.\n",
    "\n",
    "\n",
    "### Simulation Interface\n",
    "\n",
    "A Simulation in Coba is any class with the following interface:\n",
    "\n",
    "```python\n",
    "class Simulation:\n",
    "\n",
    "    @abstractmethod\n",
    "    def read(self) -> Iterable[Interaction]:\n",
    "        ...\n",
    "```\n",
    "\n",
    "So long as your class satisfies this interface it should be completely interoperable with Coba. We also recommend lazy loading when implementing your own simulation. That is interactions in general should not be created in memory until read is called.  This speeds up processing when multiprocessing and saves on memory .\n",
    "\n",
    "### Interaction Interface\n",
    "\n",
    "The Simulation interface above also relies on the Interaction interface:\n",
    "\n",
    "```python\n",
    "class Interaction:        \n",
    "    @property\n",
    "    @abstractmethod\n",
    "    def context(self) -> Context:\n",
    "        ...\n",
    "        \n",
    "    @property\n",
    "    @abstractmethod\n",
    "    def actions(self) -> Sequence[Action]:\n",
    "        ...\n",
    "\n",
    "    @property\n",
    "    @abstractmethod\n",
    "    def feedbacks(self) -> Sequence[Feedback]:\n",
    "        ...\n",
    "```\n",
    "\n",
    "Once again, while one can satisfy this interface from scratch we recommend developers simply use Coba's Interaction class. The types hints of Context, Action and Feedback actually have no constraints on them. We simply provide the hints for semantic interpretation and you are free to return anything you'd like in practice. These values are simply passed along to the Learners.\n"
   ]
  },
  {
   "cell_type": "code",

   "execution_count": null,
   "metadata": {
    "scrolled": false
   },
   "outputs": [],
   "source": [
    "from coba.simulations import Interaction\n",
    "from coba.learners    import RandomLearner, VowpalLearner\n",
    "from coba.benchmarks  import Benchmark\n",
    "\n",
    "class MySimulation:\n",
    "\n",
    "    def read(self):\n",
    "        yield Interaction((1,1), [1,2,3], [1,2,3])\n",
    "        yield Interaction((2,2), [1,2,3], [2,100,-100])\n",
    "\n",
    "    def __repr__(self):\n",
    "        return \"MySimulation\"\n",
    "\n",
    "Benchmark([MySimulation()]).evaluate([RandomLearner(), VowpalLearner()]).plot_learners()"
   ]
  }
 ],
 "metadata": {
  "kernelspec": {
   "display_name": "Python 3",
   "language": "python",
   "name": "python3"
  },
  "language_info": {
   "codemirror_mode": {
    "name": "ipython",
    "version": 3
   },
   "file_extension": ".py",
   "mimetype": "text/x-python",
   "name": "python",
   "nbconvert_exporter": "python",
   "pygments_lexer": "ipython3",
   "version": "3.8.5"
  }
 },
 "nbformat": 4,
 "nbformat_minor": 5
}
